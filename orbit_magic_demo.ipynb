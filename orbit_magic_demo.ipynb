{
 "cells": [
  {
   "cell_type": "code",
   "execution_count": 1,
   "id": "fa337f07-b649-41f2-81b3-03223ff66f83",
   "metadata": {},
   "outputs": [],
   "source": [
    "# Import the orbit magic\n",
    "from orbit_magic import orbit"
   ]
  },
  {
   "cell_type": "code",
   "execution_count": 2,
   "id": "87b96071-3c92-4a2d-9efc-6f229fbef401",
   "metadata": {},
   "outputs": [
    {
     "data": {
      "text/plain": [
       "'Domino Data Lab is located at 135 Townsend St Fl 5, San Francisco, California, 94107, United States.'"
      ]
     },
     "execution_count": 2,
     "metadata": {},
     "output_type": "execute_result"
    }
   ],
   "source": [
    "# Use the magic\n",
    "%orbit \"Where is Domino data lab located?\""
   ]
  },
  {
   "cell_type": "code",
   "execution_count": 9,
   "id": "601ecb3e-954b-4d63-b58a-79ff12e65095",
   "metadata": {},
   "outputs": [
    {
     "data": {
      "text/plain": [
       "'There can be several possible reasons for slow Domino workspaces. Some potential reasons could include:\\n- Insufficient hardware resources allocated to the workspace\\n- Large and complex datasets or models being used in the workspace\\n- High network latency or slow internet connection\\n- Heavy computational tasks running in the workspace\\n- Inefficient code or algorithms being used\\n\\nTo troubleshoot and improve the performance of a slow workspace, you can try the following steps:\\n- Check and adjust the hardware tier of the workspace to allocate more resources if needed.\\n- Optimize your code and algorithms to improve efficiency.\\n- Reduce the size or complexity of your datasets or models if possible.\\n- Check your network connection and try using a faster internet connection if available.\\n- Monitor the resource usage of your workspace and identify any bottlenecks or resource-intensive tasks.\\n\\nIf the issue persists, you may want to reach out to your administrator or the Domino support team for further assistance.'"
      ]
     },
     "execution_count": 9,
     "metadata": {},
     "output_type": "execute_result"
    }
   ],
   "source": [
    "%orbit \"Why is my workspace slow?\""
   ]
  },
  {
   "cell_type": "code",
   "execution_count": 6,
   "id": "e1df2ed0-37e4-4af6-bfbc-bfe70a572e56",
   "metadata": {},
   "outputs": [
    {
     "data": {
      "text/plain": [
       "'Over 20% of the Fortune 100 companies have Domino Data Lab.'"
      ]
     },
     "execution_count": 6,
     "metadata": {},
     "output_type": "execute_result"
    }
   ],
   "source": [
    "%orbit \"What % of Fortune 100 has Domino Data Lab?\""
   ]
  },
  {
   "cell_type": "code",
   "execution_count": 7,
   "id": "7487dae7-e09a-4e19-88a7-f8705bc25e18",
   "metadata": {},
   "outputs": [
    {
     "data": {
      "text/plain": [
       "\"Domino Data Lab has announced powerful new capabilities for building AI, including Generative AI (GenAI), rapidly and safely at scale. The fall 2023 platform release jump-starts GenAI innovation by transforming Domino's AI Project Hub into an AI ecosystem hub. This release includes updates for accelerating AI time-to-value, reducing costs, implementing responsible AI, and expanded cloud-based offerings. Domino Data Lab empowers AI-driven enterprises to build and operate AI at scale, unifying flexibility with visibility and control. With its Enterprise AI platform, global enterprises can develop medicines, grow crops, and create competitive products.\""
      ]
     },
     "execution_count": 7,
     "metadata": {},
     "output_type": "execute_result"
    }
   ],
   "source": [
    "%orbit \"What new features were launched in Domino Data Lab, give me a 200 word summary\""
   ]
  },
  {
   "cell_type": "code",
   "execution_count": 8,
   "id": "81f2deda-f89f-4976-aae6-a6950637f424",
   "metadata": {},
   "outputs": [
    {
     "data": {
      "text/plain": [
       "'The project that used the most compute hours is \"SearchEngineAgent\".'"
      ]
     },
     "execution_count": 8,
     "metadata": {},
     "output_type": "execute_result"
    }
   ],
   "source": [
    "%orbit \"Which project used the most number of compute hours\""
   ]
  },
  {
   "cell_type": "code",
   "execution_count": 8,
   "id": "820a0474-8cc1-4b29-b1cc-cc7b76ee33e5",
   "metadata": {},
   "outputs": [
    {
     "data": {
      "text/plain": [
       "'The usage hours for the project \"SearchEngineAgent\" is approximately 16.44 hours.'"
      ]
     },
     "execution_count": 8,
     "metadata": {},
     "output_type": "execute_result"
    }
   ],
   "source": [
    "%orbit \"How many hours did the project SearchEngineAgent use on this deployment\""
   ]
  },
  {
   "cell_type": "code",
   "execution_count": 2,
   "id": "31651be0-26b5-4f3a-8415-f79f46f98a04",
   "metadata": {},
   "outputs": [
    {
     "name": "stdout",
     "output_type": "stream",
     "text": [
      "Experiment id: 18\n",
      "Experiment name: experiment_name = \"Linear Regression Model Experiment-1704911622.8199189\n"
     ]
    }
   ],
   "source": [
    "# For the sake of the demo when orbit creates an experiment it appends the time stamp to the name to ensure the experiment name is unique\n",
    "%orbit \"I want to create an experiment that builds a linear regression model and logs accuracy, create an experiment with a self explanatory name\""
   ]
  },
  {
   "cell_type": "code",
   "execution_count": 2,
   "id": "ffe9c876-c11f-4b89-a500-38720ff7633d",
   "metadata": {},
   "outputs": [],
   "source": [
    "# When used with orbit code generation tasks a file called agent-code-timestamp.py will be created in the working directory\n",
    "%orbit \"Generate Python code to build a logistic regression model and log f1 as a metric\""
   ]
  },
  {
   "cell_type": "code",
   "execution_count": 3,
   "id": "48fc9a1c-cfc8-41df-9486-00390496af10",
   "metadata": {},
   "outputs": [
    {
     "name": "stdout",
     "output_type": "stream",
     "text": [
      "{'runId': '659ee46d2b63dd10865aedbe', 'message': 'Run for project integration-test/SearchEngineAgent started. You can view it here:\\nhttps://johnal33586.marketing-sandbox.domino.tech/jobs/integration-test/SearchEngineAgent/659ee46d2b63dd10865aedbe\\n'}\n"
     ]
    }
   ],
   "source": [
    "# After orbit generates code, the user can modify the code, optionally rename the file, commit it and then run it as a job\n",
    "%orbit \"Run a job using agent-job.py\""
   ]
  },
  {
   "cell_type": "code",
   "execution_count": 7,
   "id": "8a1de82f-bca8-4b2c-8e95-6dbd709575d0",
   "metadata": {},
   "outputs": [
    {
     "data": {
      "text/plain": [
       "\"Shapley additive explanations (SHAP) is a framework used to interpret the output of machine learning models. It provides a detailed understanding of how each feature contributes to predictions. SHAP values attribute the contributions of each feature to a model's prediction, making the decision-making process more transparent and interpretable.\\n\\nLocal interpretable model-agnostic explanations (LIME) is a model-agnostic approach that can explain the predictions of any classifier in an interpretable and faithful manner. It utilizes feature relationships and visualizes the interpretation results to provide human-friendly explanations.\""
      ]
     },
     "execution_count": 7,
     "metadata": {},
     "output_type": "execute_result"
    }
   ],
   "source": [
    "%orbit \"What are some examples of explainable AI algorithms, explain briefly how they work\""
   ]
  },
  {
   "cell_type": "code",
   "execution_count": null,
   "id": "e0073dbf-c026-4943-8963-ee6729633ab6",
   "metadata": {},
   "outputs": [],
   "source": []
  }
 ],
 "metadata": {
  "kernelspec": {
   "display_name": "Python 3 (ipykernel)",
   "language": "python",
   "name": "python3"
  },
  "language_info": {
   "codemirror_mode": {
    "name": "ipython",
    "version": 3
   },
   "file_extension": ".py",
   "mimetype": "text/x-python",
   "name": "python",
   "nbconvert_exporter": "python",
   "pygments_lexer": "ipython3",
   "version": "3.9.18"
  }
 },
 "nbformat": 4,
 "nbformat_minor": 5
}
