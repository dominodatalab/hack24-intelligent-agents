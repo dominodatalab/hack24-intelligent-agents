{
 "cells": [
  {
   "cell_type": "code",
   "execution_count": 1,
   "id": "fa337f07-b649-41f2-81b3-03223ff66f83",
   "metadata": {},
   "outputs": [],
   "source": [
    "# Import the orbit magic\n",
    "from orbit_magic import orbit"
   ]
  },
  {
   "cell_type": "code",
   "execution_count": 2,
   "id": "87b96071-3c92-4a2d-9efc-6f229fbef401",
   "metadata": {},
   "outputs": [
    {
     "data": {
      "text/plain": [
       "'Domino Data Lab is located at 135 Townsend St Fl 5, San Francisco, California, 94107, United States.'"
      ]
     },
     "execution_count": 2,
     "metadata": {},
     "output_type": "execute_result"
    }
   ],
   "source": [
    "# Use the magic\n",
    "%orbit \"Where is Domino data lab located?\""
   ]
  },
  {
   "cell_type": "code",
   "execution_count": 3,
   "id": "a5407d7a-e1a9-4180-9525-0bd292653cdd",
   "metadata": {},
   "outputs": [
    {
     "name": "stdout",
     "output_type": "stream",
     "text": [
      "Experiment id: 15\n",
      "Experiment name: experiment_name = \"agent_exp-1704854848.522971\n"
     ]
    }
   ],
   "source": [
    "%orbit \"create an experiment called agent_exp\""
   ]
  },
  {
   "cell_type": "code",
   "execution_count": 9,
   "id": "601ecb3e-954b-4d63-b58a-79ff12e65095",
   "metadata": {},
   "outputs": [
    {
     "data": {
      "text/plain": [
       "'There can be several possible reasons for slow Domino workspaces. Some potential reasons could include:\\n- Insufficient hardware resources allocated to the workspace\\n- Large and complex datasets or models being used in the workspace\\n- High network latency or slow internet connection\\n- Heavy computational tasks running in the workspace\\n- Inefficient code or algorithms being used\\n\\nTo troubleshoot and improve the performance of a slow workspace, you can try the following steps:\\n- Check and adjust the hardware tier of the workspace to allocate more resources if needed.\\n- Optimize your code and algorithms to improve efficiency.\\n- Reduce the size or complexity of your datasets or models if possible.\\n- Check your network connection and try using a faster internet connection if available.\\n- Monitor the resource usage of your workspace and identify any bottlenecks or resource-intensive tasks.\\n\\nIf the issue persists, you may want to reach out to your administrator or the Domino support team for further assistance.'"
      ]
     },
     "execution_count": 9,
     "metadata": {},
     "output_type": "execute_result"
    }
   ],
   "source": [
    "%orbit \"Why is my workspace slow?\""
   ]
  },
  {
   "cell_type": "code",
   "execution_count": 5,
   "id": "b69aa9e2-8bd3-4c6e-8320-38ffc6b1cce8",
   "metadata": {},
   "outputs": [
    {
     "name": "stdout",
     "output_type": "stream",
     "text": [
      "{'runId': '659e05440ba3b8384bafdb2c', 'message': 'Run for project integration-test/SearchEngineAgent started. You can view it here:\\nhttps://johnal33586.marketing-sandbox.domino.tech/jobs/integration-test/SearchEngineAgent/659e05440ba3b8384bafdb2c\\n'}\n"
     ]
    }
   ],
   "source": [
    "%orbit \"Run a job using job.py\""
   ]
  },
  {
   "cell_type": "code",
   "execution_count": 6,
   "id": "e1df2ed0-37e4-4af6-bfbc-bfe70a572e56",
   "metadata": {},
   "outputs": [
    {
     "data": {
      "text/plain": [
       "'Over 20% of the Fortune 100 companies have Domino Data Lab.'"
      ]
     },
     "execution_count": 6,
     "metadata": {},
     "output_type": "execute_result"
    }
   ],
   "source": [
    "%orbit \"What % of Fortune 100 has Domino Data Lab?\""
   ]
  },
  {
   "cell_type": "code",
   "execution_count": 7,
   "id": "7487dae7-e09a-4e19-88a7-f8705bc25e18",
   "metadata": {},
   "outputs": [
    {
     "data": {
      "text/plain": [
       "\"Domino Data Lab has announced powerful new capabilities for building AI, including Generative AI (GenAI), rapidly and safely at scale. The fall 2023 platform release jump-starts GenAI innovation by transforming Domino's AI Project Hub into an AI ecosystem hub. This release includes updates for accelerating AI time-to-value, reducing costs, implementing responsible AI, and expanded cloud-based offerings. Domino Data Lab empowers AI-driven enterprises to build and operate AI at scale, unifying flexibility with visibility and control. With its Enterprise AI platform, global enterprises can develop medicines, grow crops, and create competitive products.\""
      ]
     },
     "execution_count": 7,
     "metadata": {},
     "output_type": "execute_result"
    }
   ],
   "source": [
    "%orbit \"What new features were launched in Domino Data Lab, give me a 200 word summary\""
   ]
  },
  {
   "cell_type": "code",
   "execution_count": 8,
   "id": "81f2deda-f89f-4976-aae6-a6950637f424",
   "metadata": {},
   "outputs": [
    {
     "data": {
      "text/plain": [
       "'The project that used the most compute hours is \"SearchEngineAgent\".'"
      ]
     },
     "execution_count": 8,
     "metadata": {},
     "output_type": "execute_result"
    }
   ],
   "source": [
    "%orbit \"Which project used the most number of compute hours\""
   ]
  },
  {
   "cell_type": "code",
   "execution_count": 9,
   "id": "820a0474-8cc1-4b29-b1cc-cc7b76ee33e5",
   "metadata": {},
   "outputs": [
    {
     "data": {
      "text/plain": [
       "'The usage hours for the project \"SearchEngineAgent\" on this deployment is approximately 12.91 hours.'"
      ]
     },
     "execution_count": 9,
     "metadata": {},
     "output_type": "execute_result"
    }
   ],
   "source": [
    "%orbit \"How many hours did the project SearchEngineAgent use on this deployment\""
   ]
  },
  {
   "cell_type": "code",
   "execution_count": null,
   "id": "31651be0-26b5-4f3a-8415-f79f46f98a04",
   "metadata": {},
   "outputs": [],
   "source": []
  }
 ],
 "metadata": {
  "kernelspec": {
   "display_name": "Python 3 (ipykernel)",
   "language": "python",
   "name": "python3"
  },
  "language_info": {
   "codemirror_mode": {
    "name": "ipython",
    "version": 3
   },
   "file_extension": ".py",
   "mimetype": "text/x-python",
   "name": "python",
   "nbconvert_exporter": "python",
   "pygments_lexer": "ipython3",
   "version": "3.9.18"
  }
 },
 "nbformat": 4,
 "nbformat_minor": 5
}
