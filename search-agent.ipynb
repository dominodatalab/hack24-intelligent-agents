{
 "cells": [
  {
   "cell_type": "code",
   "execution_count": 2,
   "id": "afce9655-4924-4f31-9bc0-5edf1486cdf5",
   "metadata": {},
   "outputs": [],
   "source": [
    "import os\n",
    "import getpass\n",
    "import subprocess\n",
    "\n",
    "from domino import Domino\n",
    "\n",
    "from langchain import LLMMathChain\n",
    "from langchain.agents import AgentType, initialize_agent\n",
    "from langchain.chat_models import ChatOpenAI\n",
    "from langchain.tools import BaseTool, StructuredTool, Tool, tool, DuckDuckGoSearchRun\n",
    "\n",
    "from pydantic import BaseModel, Field"
   ]
  },
  {
   "cell_type": "code",
   "execution_count": 6,
   "id": "319e994b-766a-4325-85ae-a8e2bf5153f3",
   "metadata": {},
   "outputs": [
    {
     "name": "stdin",
     "output_type": "stream",
     "text": [
      "Enter Your OpenAI API Key: ········\n"
     ]
    }
   ],
   "source": [
    "os.environ[\"OPENAI_API_KEY\"] = getpass.getpass(\"Enter Your OpenAI API Key:\")"
   ]
  },
  {
   "cell_type": "code",
   "execution_count": 7,
   "id": "ec2f9513-7b52-4296-9d2f-94d1231855bd",
   "metadata": {},
   "outputs": [],
   "source": [
    "llm = ChatOpenAI(temperature=0)"
   ]
  },
  {
   "cell_type": "code",
   "execution_count": 34,
   "id": "92c71238-f0fe-4bba-9330-31f77c7d3a4e",
   "metadata": {},
   "outputs": [
    {
     "name": "stderr",
     "output_type": "stream",
     "text": [
      "/home/ubuntu/.local/lib/python3.9/site-packages/langchain/chains/llm_math/base.py:56: UserWarning: Directly instantiating an LLMMathChain with an llm is deprecated. Please instantiate with llm_chain argument or using the from_llm class method.\n",
      "  warnings.warn(\n"
     ]
    }
   ],
   "source": [
    "search = DuckDuckGoSearchRun()\n",
    "\n",
    "search_tool = Tool.from_function(\n",
    "    func=search.run,\n",
    "    name=\"Search\",\n",
    "    description=\"useful for when you need to search the internet for information\"\n",
    ")\n",
    "\n",
    "llm_math_chain = LLMMathChain(llm=llm, verbose=True)\n",
    "\n",
    "math_tool = Tool.from_function(\n",
    "    func=llm_math_chain.run,\n",
    "    name=\"Calculator\",\n",
    "    description=\"Useful for when you are asked to perform math calculations\"\n",
    ")\n",
    "\n",
    "# create an experiment in MLflow\n",
    "@tool(\"create_experiment\", return_direct=True)\n",
    "def create_experiment(experiment_name:str):\n",
    "    \"\"\"Create an experiment in Domino\"\"\"\n",
    "    # we'll make the name unique in the project by appending a timestamp so that you and other users can run this cell more than once.\n",
    "    timestamp = time.time()\n",
    "    username = os.environ['DOMINO_STARTING_USERNAME']\n",
    "    if experiment_name:\n",
    "        experiment_name = f\"{experiment_name}-{timestamp}\"\n",
    "        # below, we'll use the returned experiment_id in calls to mlflow.start_run() to add data to the experiment.\n",
    "        experiment_id = mlflow.create_experiment(experiment_name)\n",
    "        print(f\"Experiment id: {experiment_id}\")\n",
    "        print(f\"Experiment name: {experiment_name}\")\n",
    "\n",
    "\n",
    "# execute a blocking job in Domino\n",
    "@tool(\"create_run_job\", return_direct=True)\n",
    "def create_run_job(job_file:str):\n",
    "    \"\"\"Create and run  a job in Domino\"\"\"\n",
    "    \n",
    "    domino = Domino(\n",
    "    f\"{owner}/{project}\",\n",
    "    api_key=os.environ[\"DOMINO_USER_API_KEY\"],\n",
    "    host=os.environ[\"DOMINO_API_HOST\"],\n",
    "    )\n",
    "    if job_file:\n",
    "        # Blocking: this will start the run and wait for the run to finish before returning the status of the run\n",
    "        domino_run = domino.runs_start_blocking(\n",
    "            [job_file], title=\"Started from Python API example code\"\n",
    "        )\n",
    "    print(domino_run)\n"
   ]
  },
  {
   "cell_type": "code",
   "execution_count": 35,
   "id": "ab714b3c-dd87-4cf0-a2cb-307925f69604",
   "metadata": {},
   "outputs": [],
   "source": [
    "tools = [search_tool, math_tool,create_directory,create_file,list_files]\n",
    "\n",
    "agent = initialize_agent(\n",
    "    tools,\n",
    "    llm,\n",
    "    agent=AgentType.ZERO_SHOT_REACT_DESCRIPTION,\n",
    "    verbose=True\n",
    ")"
   ]
  },
  {
   "cell_type": "code",
   "execution_count": 32,
   "id": "1743eeb0-921b-4225-a51b-b9fc365f4f7b",
   "metadata": {},
   "outputs": [
    {
     "name": "stdout",
     "output_type": "stream",
     "text": [
      "\n",
      "\n",
      "\u001b[1m> Entering new AgentExecutor chain...\u001b[0m\n",
      "\u001b[32;1m\u001b[1;3mI need to search for the Sacramento Kings win-loss record for the 2022-2023 season. Then I need to add the games won and games lost and multiply that result by 2. Finally, I need to create a directory called \"results_1\" and write the results to a file called \"results.txt\" in that directory.\n",
      "Action: Search\n",
      "Action Input: Sacramento Kings win-loss record 2022-2023 season\u001b[0m\n",
      "Observation: \u001b[36;1m\u001b[1;3mStay Up-To-Date With The Latest Sacramento Kings Schedule, Live Scores, And Results For The 2022-2023 NBA Season! ... 2022-2023 Betting Record. Win / Loss. 48-34. Against the Spread. And when the final buzzer sounded on the regular season, with 9,846 points, the team set a new single-season franchise record for points scored, surpassing the 1961-62 Cincinnati Royals by one point. Sacramento finishes Q1 at DEN with 43 points and has now scored 9,846 points this season. Stats Roster Depth Chart Transactions Injuries StubHub Next Game Fri, Jan 5 @ 10:00 pm ET vs Toronto Raptors (14-20) Golden 1 Center SAC -5, O/U 238.5 Game Preview Watch on regional restrictions... Sacramento finished the 2022-23 season third in the Western Conference with a 48-34 record thanks to the emergence of De'Aaron Fox and Keegan Murray, in addition to having Domantas Sabonis... While 44.5 wins is respectable and would be a solid season for Sacramento, the Kings finished the 2022-23 season with a 48-34 record. FanDuel projects the Kings to take a step back...\u001b[0m\n",
      "Thought:\u001b[32;1m\u001b[1;3mI have found the win-loss record for the Sacramento Kings for the 2022-2023 season. The record is 48-34. Now I need to add the games won and games lost and multiply that result by 2. Then I need to create a directory called \"results_1\" and write the results to a file called \"results.txt\" in that directory.\n",
      "Action: Calculator\n",
      "Action Input: (48 + 34) * 2\u001b[0m\n",
      "\n",
      "\u001b[1m> Entering new LLMMathChain chain...\u001b[0m\n",
      "(48 + 34) * 2\u001b[32;1m\u001b[1;3m```text\n",
      "(48 + 34) * 2\n",
      "```\n",
      "...numexpr.evaluate(\"(48 + 34) * 2\")...\n",
      "\u001b[0m\n",
      "Answer: \u001b[33;1m\u001b[1;3m164\u001b[0m\n",
      "\u001b[1m> Finished chain.\u001b[0m\n",
      "\n",
      "Observation: \u001b[33;1m\u001b[1;3mAnswer: 164\u001b[0m\n",
      "Thought:\u001b[32;1m\u001b[1;3mI have calculated the result of (48 + 34) * 2, which is 164. Now I need to create a directory called \"results_1\" and write the results to a file called \"results.txt\" in that directory.\n",
      "Action: create_directory\n",
      "Action Input: results_1\u001b[0m\n",
      "Observation: \u001b[38;5;200m\u001b[1;3mNone\u001b[0m\n",
      "\u001b[32;1m\u001b[1;3m\u001b[0m\n",
      "\n",
      "\u001b[1m> Finished chain.\u001b[0m\n"
     ]
    }
   ],
   "source": [
    "agent.run(\"Search for the Sacramento Kings win-loss record for the entire 2022-2023 season. Add games won and games lost and multiply that result by 2.)"
   ]
  }
 ],
 "metadata": {
  "kernelspec": {
   "display_name": "Python 3 (ipykernel)",
   "language": "python",
   "name": "python3"
  },
  "language_info": {
   "codemirror_mode": {
    "name": "ipython",
    "version": 3
   },
   "file_extension": ".py",
   "mimetype": "text/x-python",
   "name": "python",
   "nbconvert_exporter": "python",
   "pygments_lexer": "ipython3",
   "version": "3.9.18"
  }
 },
 "nbformat": 4,
 "nbformat_minor": 5
}
